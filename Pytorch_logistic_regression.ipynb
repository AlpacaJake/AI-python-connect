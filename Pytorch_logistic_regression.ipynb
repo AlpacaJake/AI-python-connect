{
  "nbformat": 4,
  "nbformat_minor": 0,
  "metadata": {
    "colab": {
      "name": "Pytorch_logistic_regression.ipynb",
      "provenance": [],
      "authorship_tag": "ABX9TyM91tecoloY0l0xp1XsaGqA",
      "include_colab_link": true
    },
    "kernelspec": {
      "name": "python3",
      "display_name": "Python 3"
    }
  },
  "cells": [
    {
      "cell_type": "markdown",
      "metadata": {
        "id": "view-in-github",
        "colab_type": "text"
      },
      "source": [
        "<a href=\"https://colab.research.google.com/github/AlpacaJake/AI-python-connect/blob/master/Pytorch_logistic_regression.ipynb\" target=\"_parent\"><img src=\"https://colab.research.google.com/assets/colab-badge.svg\" alt=\"Open In Colab\"/></a>"
      ]
    },
    {
      "cell_type": "markdown",
      "metadata": {
        "id": "UuROIdczsu0A",
        "colab_type": "text"
      },
      "source": [
        "# **Logistic Regression**\n",
        "\n",
        "\n",
        "*   이항형 로지스틱 회귀(binomial logistic regression)의 경우 종속 변수의 결과가 성공, 실패 와 같이 2개의 카테고리가 존재하는 것을 의미하며 다항형 로지스틱 회귀는 종속형 변수가 (맑음, 흐림, 비) 와 같이 2개 이상의 카테고리로 분류되는 것을 가리킨다. 이항형 로지스틱의 회귀 분석에서 2개의 카테고리는 0과 1로 나타내어지고 각각의 카테고리로 분류될 확률의 합은 1이 된다. \n",
        "\n",
        "+   Hypothesis 는 Sigmoid function을 사용  \n",
        "\n",
        "    H(x) = 1 / (1 + e(-W.T X))  \n",
        "\n",
        "    ![대체 텍스트](https://mblogthumb-phinf.pstatic.net/20150612_50/2feelus_14340467064157goJq_PNG/2015-06-12_at_3.21.28_AM.png?type=w2)  \n",
        "\n",
        "    ![대체 텍스트](https://mblogthumb-phinf.pstatic.net/20150612_71/2feelus_14340466751522xoTj_PNG/2015-06-12_at_3.20.33_AM.png?type=w2)\n",
        "\n",
        "     \n",
        "+   Cost function은 cross entropy  사용  \n",
        "\n",
        "    cost(W) = -1/m Sigma(ylog(H(x)) + (1-y)(log(1-H(x)))  \n",
        "\n",
        "    ![대체 텍스트](https://wikimedia.org/api/rest_v1/media/math/render/svg/80f87a71d3a616a0939f5360cec24d702d2593a2)\n",
        "\n",
        "     "
      ]
    },
    {
      "cell_type": "code",
      "metadata": {
        "id": "ELPLaWzZZtSI",
        "colab_type": "code",
        "colab": {}
      },
      "source": [
        "import torch\n",
        "import torch.nn as nn\n",
        "import torch.nn.functional as F\n",
        "import torch.optim as optim"
      ],
      "execution_count": 2,
      "outputs": []
    },
    {
      "cell_type": "code",
      "metadata": {
        "id": "96ysDoTn0yMb",
        "colab_type": "code",
        "colab": {
          "base_uri": "https://localhost:8080/",
          "height": 35
        },
        "outputId": "aef5ce7f-f2ec-4685-c8d2-154f420aa3fc"
      },
      "source": [
        "torch.manual_seed(1)"
      ],
      "execution_count": 3,
      "outputs": [
        {
          "output_type": "execute_result",
          "data": {
            "text/plain": [
              "<torch._C.Generator at 0x7f9fa975d570>"
            ]
          },
          "metadata": {
            "tags": []
          },
          "execution_count": 3
        }
      ]
    },
    {
      "cell_type": "markdown",
      "metadata": {
        "id": "Aor1EwklxGsQ",
        "colab_type": "text"
      },
      "source": [
        "x_data shape is (6,2)  \n",
        "y_data shape is (6,1)  \n",
        "2개 input 이 들어가서 output 1 개를 내는 6개의 데이터가 있다   \n",
        "이경우 W 의 shape 은 (2,1)  b 의 shape 은 (1,)"
      ]
    },
    {
      "cell_type": "code",
      "metadata": {
        "id": "bXUDFBS4033G",
        "colab_type": "code",
        "colab": {}
      },
      "source": [
        "x_data = [[1,2], [2,3], [3,1], [4,3], [5,3],[6,2]]\n",
        "y_data = [[0], [0], [0], [1], [1], [1]]\n",
        "\n",
        "x_train = torch.FloatTensor(x_data)\n",
        "y_train = torch.FloatTensor(y_data)\n"
      ],
      "execution_count": 4,
      "outputs": []
    },
    {
      "cell_type": "code",
      "metadata": {
        "id": "Ys6kKZWl1Q8G",
        "colab_type": "code",
        "colab": {
          "base_uri": "https://localhost:8080/",
          "height": 53
        },
        "outputId": "a64f0b36-157f-4711-bbb1-95eab7d36679"
      },
      "source": [
        "print(x_train.shape)\n",
        "print(y_train.shape)"
      ],
      "execution_count": 5,
      "outputs": [
        {
          "output_type": "stream",
          "text": [
            "torch.Size([6, 2])\n",
            "torch.Size([6, 1])\n"
          ],
          "name": "stdout"
        }
      ]
    },
    {
      "cell_type": "code",
      "metadata": {
        "id": "YlrW49fi1Vmb",
        "colab_type": "code",
        "colab": {
          "base_uri": "https://localhost:8080/",
          "height": 35
        },
        "outputId": "2faa8a18-cd15-4d45-ce27-45c07d196580"
      },
      "source": [
        "print('e^1 equals: ', torch.exp(torch.FloatTensor([1])))"
      ],
      "execution_count": 6,
      "outputs": [
        {
          "output_type": "stream",
          "text": [
            "e^1 equals:  tensor([2.7183])\n"
          ],
          "name": "stdout"
        }
      ]
    },
    {
      "cell_type": "code",
      "metadata": {
        "id": "fYvIisvS113c",
        "colab_type": "code",
        "colab": {}
      },
      "source": [
        "W = torch.zeros((2,1), requires_grad=True)\n",
        "b = torch.zeros(1, requires_grad=True)\n"
      ],
      "execution_count": 7,
      "outputs": []
    },
    {
      "cell_type": "markdown",
      "metadata": {
        "id": "DiA0-tj5xx_v",
        "colab_type": "text"
      },
      "source": [
        "x_train 은 (6,2), W 는 (2,1) 이므로 matmul 하면 (6,1) 인 y_train 과 같은 shape"
      ]
    },
    {
      "cell_type": "code",
      "metadata": {
        "id": "ucmRqF852HOy",
        "colab_type": "code",
        "colab": {}
      },
      "source": [
        "#hypothesis = 1 / (1 + torch.exp(-(x_train.matmul(W) + b)))\n",
        "hypothesis = torch.sigmoid(x_train.matmul(W)+b)\n"
      ],
      "execution_count": null,
      "outputs": []
    },
    {
      "cell_type": "code",
      "metadata": {
        "id": "DgRotukx2S_B",
        "colab_type": "code",
        "colab": {
          "base_uri": "https://localhost:8080/",
          "height": 143
        },
        "outputId": "05a74208-d7ff-4f51-a0b4-1530e65b65c2"
      },
      "source": [
        "print(hypothesis)\n",
        "print(hypothesis.shape)"
      ],
      "execution_count": null,
      "outputs": [
        {
          "output_type": "stream",
          "text": [
            "tensor([[0.5000],\n",
            "        [0.5000],\n",
            "        [0.5000],\n",
            "        [0.5000],\n",
            "        [0.5000],\n",
            "        [0.5000]], grad_fn=<SigmoidBackward>)\n",
            "torch.Size([6, 1])\n"
          ],
          "name": "stdout"
        }
      ]
    },
    {
      "cell_type": "code",
      "metadata": {
        "id": "O3JShbpN3AIn",
        "colab_type": "code",
        "colab": {
          "base_uri": "https://localhost:8080/",
          "height": 35
        },
        "outputId": "9a9fd951-ddcf-4582-c0f4-05809b363e40"
      },
      "source": [
        "print('1 / (1 + e^(-1)) equals: ', torch.sigmoid(torch.FloatTensor([1])))\n"
      ],
      "execution_count": null,
      "outputs": [
        {
          "output_type": "stream",
          "text": [
            "1 / (1 + e^(-1)) equals:  tensor([0.7311])\n"
          ],
          "name": "stdout"
        }
      ]
    },
    {
      "cell_type": "code",
      "metadata": {
        "id": "MwhjWF6I3laF",
        "colab_type": "code",
        "colab": {
          "base_uri": "https://localhost:8080/",
          "height": 125
        },
        "outputId": "8c9fd4ee-053d-4c81-ce6f-ebb77d994ee3"
      },
      "source": [
        "losses = -(y_train * torch.log(hypothesis) + (1 - y_train) * torch.log(1 - hypothesis))\n",
        "print(losses)\n",
        "#cost = losses.mean()"
      ],
      "execution_count": null,
      "outputs": [
        {
          "output_type": "stream",
          "text": [
            "tensor([[0.6931],\n",
            "        [0.6931],\n",
            "        [0.6931],\n",
            "        [0.6931],\n",
            "        [0.6931],\n",
            "        [0.6931]], grad_fn=<NegBackward>)\n"
          ],
          "name": "stdout"
        }
      ]
    },
    {
      "cell_type": "code",
      "metadata": {
        "id": "tYllniEM5hQo",
        "colab_type": "code",
        "colab": {
          "base_uri": "https://localhost:8080/",
          "height": 35
        },
        "outputId": "b58b7418-f209-4326-ca2c-1ef06a60e487"
      },
      "source": [
        "\n",
        "cost = F.binary_cross_entropy(hypothesis, y_train)\n",
        "\n",
        "print(cost)"
      ],
      "execution_count": null,
      "outputs": [
        {
          "output_type": "stream",
          "text": [
            "tensor(0.6931, grad_fn=<BinaryCrossEntropyBackward>)\n"
          ],
          "name": "stdout"
        }
      ]
    },
    {
      "cell_type": "markdown",
      "metadata": {
        "id": "ZwFQGgdz1uIg",
        "colab_type": "text"
      },
      "source": [
        "# Class 구현 방법"
      ]
    },
    {
      "cell_type": "code",
      "metadata": {
        "id": "Zn4S-_4b1tCK",
        "colab_type": "code",
        "colab": {}
      },
      "source": [
        "class BianryClassifier(nn.Module):\n",
        "  def __init__(self):\n",
        "    super().__init__()\n",
        "    self.linear = nn.Linear(2,1)\n",
        "    self.sigmoid = nn.Sigmoid()\n",
        "\n",
        "  def forward(self, x):\n",
        "    return self.sigmoid(self.linear(x))\n",
        "    "
      ],
      "execution_count": 16,
      "outputs": []
    },
    {
      "cell_type": "code",
      "metadata": {
        "id": "NiI1S81k2KDX",
        "colab_type": "code",
        "colab": {}
      },
      "source": [
        "model = BianryClassifier()\n",
        "\n",
        "optimizer = optim.SGD(model.parameters(), lr=0.1)"
      ],
      "execution_count": 18,
      "outputs": []
    },
    {
      "cell_type": "code",
      "metadata": {
        "id": "UAXkMB1o2a58",
        "colab_type": "code",
        "colab": {
          "base_uri": "https://localhost:8080/",
          "height": 215
        },
        "outputId": "fba7163a-4f82-4a8f-d607-80857d4eb3e6"
      },
      "source": [
        "nb_epochs = 1000\n",
        "\n",
        "for epoch in range(nb_epochs + 1):\n",
        "  hypothesis = model(x_train)\n",
        "  cost = F.binary_cross_entropy(hypothesis, y_train)\n",
        "\n",
        "  optimizer.zero_grad()\n",
        "  cost.backward()\n",
        "  optimizer.step()\n",
        "\n",
        "  if epoch % 100 == 0:\n",
        "    print('Epoch {:4d}/{} Cost: {:.6f}'.format(epoch, nb_epochs, cost.item()))"
      ],
      "execution_count": 19,
      "outputs": [
        {
          "output_type": "stream",
          "text": [
            "Epoch    0/1000 Cost: 0.539713\n",
            "Epoch  100/1000 Cost: 0.407688\n",
            "Epoch  200/1000 Cost: 0.345649\n",
            "Epoch  300/1000 Cost: 0.298323\n",
            "Epoch  400/1000 Cost: 0.261179\n",
            "Epoch  500/1000 Cost: 0.231633\n",
            "Epoch  600/1000 Cost: 0.207779\n",
            "Epoch  700/1000 Cost: 0.188230\n",
            "Epoch  800/1000 Cost: 0.171976\n",
            "Epoch  900/1000 Cost: 0.158282\n",
            "Epoch 1000/1000 Cost: 0.146605\n"
          ],
          "name": "stdout"
        }
      ]
    },
    {
      "cell_type": "markdown",
      "metadata": {
        "id": "tYjl3EzG3Bw0",
        "colab_type": "text"
      },
      "source": [
        "#  Class 구현 방법"
      ]
    },
    {
      "cell_type": "code",
      "metadata": {
        "id": "ALHjp4aD5oi1",
        "colab_type": "code",
        "colab": {}
      },
      "source": [
        "optimizer = optim.SGD([W, b], lr = 0.1)"
      ],
      "execution_count": 8,
      "outputs": []
    },
    {
      "cell_type": "markdown",
      "metadata": {
        "id": "NwN-NK8ozcqv",
        "colab_type": "text"
      },
      "source": [
        "Training"
      ]
    },
    {
      "cell_type": "code",
      "metadata": {
        "id": "_YtquHgtyNor",
        "colab_type": "code",
        "colab": {
          "base_uri": "https://localhost:8080/",
          "height": 215
        },
        "outputId": "fa8b52d3-743a-445f-c99b-c2177ab28b7f"
      },
      "source": [
        "nb_epochs = 1000\n",
        "for epoch in range(nb_epochs +1) :\n",
        "  hypothesis = torch.sigmoid(x_train.matmul(W)+b)\n",
        "  cost = F.binary_cross_entropy(hypothesis, y_train)\n",
        "\n",
        "  optimizer.zero_grad()\n",
        "  cost.backward()\n",
        "  optimizer.step()\n",
        "\n",
        "  if epoch % 100 == 0:\n",
        "    print('Epoch {:4d}/{} Cost: {:.6f}'.format(epoch, nb_epochs, cost.item()))"
      ],
      "execution_count": 9,
      "outputs": [
        {
          "output_type": "stream",
          "text": [
            "Epoch    0/1000 Cost: 0.693147\n",
            "Epoch  100/1000 Cost: 0.414327\n",
            "Epoch  200/1000 Cost: 0.349521\n",
            "Epoch  300/1000 Cost: 0.301302\n",
            "Epoch  400/1000 Cost: 0.263532\n",
            "Epoch  500/1000 Cost: 0.233518\n",
            "Epoch  600/1000 Cost: 0.209313\n",
            "Epoch  700/1000 Cost: 0.189496\n",
            "Epoch  800/1000 Cost: 0.173035\n",
            "Epoch  900/1000 Cost: 0.159179\n",
            "Epoch 1000/1000 Cost: 0.147375\n"
          ],
          "name": "stdout"
        }
      ]
    },
    {
      "cell_type": "markdown",
      "metadata": {
        "id": "OtCHE2GbzfbE",
        "colab_type": "text"
      },
      "source": [
        "Evaluation  \n",
        " After we finish training the model, we want to check how well our model fits the training set"
      ]
    },
    {
      "cell_type": "code",
      "metadata": {
        "id": "necc25yXzR98",
        "colab_type": "code",
        "colab": {
          "base_uri": "https://localhost:8080/",
          "height": 107
        },
        "outputId": "0b48adc2-0e69-4d3c-bb36-f417050d9f71"
      },
      "source": [
        "hypothesis = torch.sigmoid(x_train.matmul(W) + b)\n",
        "print(hypothesis[:5])"
      ],
      "execution_count": 20,
      "outputs": [
        {
          "output_type": "stream",
          "text": [
            "tensor([[0.0298],\n",
            "        [0.1576],\n",
            "        [0.3004],\n",
            "        [0.7834],\n",
            "        [0.9409]], grad_fn=<SliceBackward>)\n"
          ],
          "name": "stdout"
        }
      ]
    },
    {
      "cell_type": "markdown",
      "metadata": {
        "id": "krCIYLQ80RMv",
        "colab_type": "text"
      },
      "source": [
        "We can change hypothesis (real number from 0 to 1) to binary predictions(either 0 or 1) by comparing them to 0.5"
      ]
    },
    {
      "cell_type": "code",
      "metadata": {
        "id": "JKGlmcqS0D8e",
        "colab_type": "code",
        "colab": {
          "base_uri": "https://localhost:8080/",
          "height": 107
        },
        "outputId": "d68b60b2-b53f-4b65-bc00-4111e7fa89ba"
      },
      "source": [
        "prediction = hypothesis >= torch.FloatTensor([0.5])\n",
        "print(prediction[:5].float())"
      ],
      "execution_count": 21,
      "outputs": [
        {
          "output_type": "stream",
          "text": [
            "tensor([[0.],\n",
            "        [0.],\n",
            "        [0.],\n",
            "        [1.],\n",
            "        [1.]])\n"
          ],
          "name": "stdout"
        }
      ]
    },
    {
      "cell_type": "code",
      "metadata": {
        "id": "Uy9hFi8J0lc1",
        "colab_type": "code",
        "colab": {
          "base_uri": "https://localhost:8080/",
          "height": 107
        },
        "outputId": "8c017313-dd48-40ab-cee0-998f85095982"
      },
      "source": [
        "correct_prediction = prediction.float() == y_train\n",
        "print(correct_prediction[:5].float())"
      ],
      "execution_count": 22,
      "outputs": [
        {
          "output_type": "stream",
          "text": [
            "tensor([[1.],\n",
            "        [1.],\n",
            "        [1.],\n",
            "        [1.],\n",
            "        [1.]])\n"
          ],
          "name": "stdout"
        }
      ]
    },
    {
      "cell_type": "code",
      "metadata": {
        "id": "GbKfOEWu1jMg",
        "colab_type": "code",
        "colab": {}
      },
      "source": [
        ""
      ],
      "execution_count": null,
      "outputs": []
    }
  ]
}